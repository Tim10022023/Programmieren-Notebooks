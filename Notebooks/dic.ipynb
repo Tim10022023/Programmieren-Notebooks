{
 "cells": [
  {
   "cell_type": "code",
   "execution_count": 8,
   "metadata": {},
   "outputs": [
    {
     "name": "stdout",
     "output_type": "stream",
     "text": [
      "  /\\  \n",
      " /  \\ \n",
      "/    \\ \n",
      "  /\\  \n",
      " /  \\ \n",
      "/    \\ \n"
     ]
    }
   ],
   "source": [
    "firstDictionary = {\n",
    "    1: \"  /\\  \",\n",
    "    2: \" /  \\ \",\n",
    "    3: \"/    \\ \",\n",
    "}\n",
    "for x in firstDictionary.values():\n",
    "    print (x)\n",
    "\n",
    "print(firstDictionary[1])\n",
    "print(firstDictionary[2])\n",
    "print(firstDictionary[3])"
   ]
  }
 ],
 "metadata": {
  "kernelspec": {
   "display_name": "Python 3",
   "language": "python",
   "name": "python3"
  },
  "language_info": {
   "codemirror_mode": {
    "name": "ipython",
    "version": 3
   },
   "file_extension": ".py",
   "mimetype": "text/x-python",
   "name": "python",
   "nbconvert_exporter": "python",
   "pygments_lexer": "ipython3",
   "version": "3.10.13"
  }
 },
 "nbformat": 4,
 "nbformat_minor": 2
}
