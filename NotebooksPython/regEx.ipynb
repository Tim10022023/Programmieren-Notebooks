{
 "cells": [
  {
   "cell_type": "code",
   "execution_count": 14,
   "metadata": {},
   "outputs": [
    {
     "name": "stdout",
     "output_type": "stream",
     "text": [
      "['y', 't', 's', 'v', 'y', 't', 's', 't', 'u']\n",
      "Match\n"
     ]
    }
   ],
   "source": [
    "import re\n",
    "\n",
    "txt = \"Python is a very interesting programming language\"\n",
    "x = re.search(\"^Python.*language$\", txt) \n",
    "y = re.findall(\"[s-z]\", txt)\n",
    "print(y)\n",
    "if x:\n",
    "    print(\"Match\")\n",
    "else:\n",
    "    print(\"No match\")"
   ]
  }
 ],
 "metadata": {
  "kernelspec": {
   "display_name": "Python 3",
   "language": "python",
   "name": "python3"
  },
  "language_info": {
   "codemirror_mode": {
    "name": "ipython",
    "version": 3
   },
   "file_extension": ".py",
   "mimetype": "text/x-python",
   "name": "python",
   "nbconvert_exporter": "python",
   "pygments_lexer": "ipython3",
   "version": "3.10.13"
  }
 },
 "nbformat": 4,
 "nbformat_minor": 2
}
